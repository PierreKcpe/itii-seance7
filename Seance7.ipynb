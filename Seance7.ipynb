{
 "cells": [
  {
   "cell_type": "markdown",
   "metadata": {},
   "source": [
    "En utilisant numpy:"
   ]
  },
  {
   "cell_type": "markdown",
   "metadata": {},
   "source": [
    "Ex 1 :Addition\n",
    "Écrire un programme pour lire les éléments de deux matrices et ajoutez les deux matrices dans la troisième.\n",
    "\n",
    "La somme de deux matrices de taille (m,n), $(A_{ij}) et (B_{ij}) notée $A+B$  est à nouveau une matrice (C_{ij}) de taille (m,n), obtenue en additionnant les éléments correspondants: $c_{ij}=a_{ij}+b_{ij}$\n"
   ]
  },
  {
   "cell_type": "code",
   "execution_count": 9,
   "metadata": {},
   "outputs": [
    {
     "name": "stdout",
     "output_type": "stream",
     "text": [
      "[[1 2 3]\n",
      " [3 4 5]]\n",
      "+\n",
      "[[1 2 3]\n",
      " [3 4 5]]\n",
      "=\n",
      "[[ 2  4  6]\n",
      " [ 6  8 10]]\n"
     ]
    }
   ],
   "source": [
    "import numpy as np\n",
    "A = np.array([[1, 2, 3], [3, 4, 5]])\n",
    "B = np.array([[1, 2, 3], [3, 4, 5]])\n",
    "    \n",
    "def somme(A,B):\n",
    "    print(A)\n",
    "    print(\"+\")\n",
    "    print(B)\n",
    "    print(\"=\")\n",
    "    C=np.add(A,B)\n",
    "    print(C)\n",
    "\n",
    "somme(A,B)\n",
    "    "
   ]
  },
  {
   "cell_type": "markdown",
   "metadata": {},
   "source": [
    "Ex2 :Multiplication\n",
    "Écrire un programme pour lire les éléments de deux matrices, puis multipliez les deux matrices dans la troisième.\n",
    "\n",
    "Deux matrices ne peuvent être multipliées que si le nombre de colonnes de la première matrice est le même que le nombre de lignes de la seconde matrice.\n",
    "\n",
    "Si $ A=(a_{ij})$ est une matrice de taille (m,n), $ B=(b_{ij})$ et est une matrice de taille (n,p), alors leur produit, noté $AB=(c_{ij})$ est une matrice de taille (m,p) définie par :\n",
    "$$\\forall i,j : c_{ij}=\\sum_{k=i}^{n} a_{ik}*b_{kj}$$"
   ]
  },
  {
   "cell_type": "code",
   "execution_count": 80,
   "metadata": {},
   "outputs": [
    {
     "name": "stdout",
     "output_type": "stream",
     "text": [
      "[[1 2 3]\n",
      " [3 4 5]]\n",
      "*\n",
      "[[1 2]\n",
      " [3 4]\n",
      " [5 6]]\n",
      "=\n",
      "[[22 28]\n",
      " [40 52]]\n",
      "impossible\n"
     ]
    }
   ],
   "source": [
    "A = np.array([[1, 2, 3], [3, 4, 5]])\n",
    "B = np.array([[1, 2],[3,4],[5, 6]])\n",
    "\n",
    "C = np.array([[1, 2, 3], [3, 4, 5]])\n",
    "\n",
    "def produit(A,B):\n",
    "    da = np.shape(A)\n",
    "    db = np.shape(B)\n",
    "    if(da[1]==db[0]):\n",
    "        print(A)\n",
    "        print(\"*\")\n",
    "        print(B)\n",
    "        print(\"=\")\n",
    "        C=np.matmul(A,B)\n",
    "        print(C)\n",
    "    else:\n",
    "        print(\"impossible\")\n",
    "                \n",
    "            \n",
    "    \n",
    "produit(A,B)\n",
    "produit(A,C)"
   ]
  },
  {
   "cell_type": "markdown",
   "metadata": {},
   "source": [
    "Ex 3: Matrice de Markov\n",
    "\n",
    "Une matrice de Markov est une matrice carrée dont chaque élément est un réel compris entre 0 et 1 et dont la somme des éléments de chaque ligne vaut 1. Cela correspond, en probabilité, à la matrice de transition d'une chaîne de Markov finie.\n",
    "\n",
    "Une matrice est dite bistochastique (ou doublement stochastique) si la somme des éléments de chaque ligne et de chaque colonne vaut 1.\n",
    "\n",
    "1. Ecrire une fonction eststochastique(P) qui permet de vérifier est ce que la matrice P est stochastique ou non\n",
    "2. Ecrire une fonction estbistochastique(P) qui permet de vérifier est ce que la matrice P est bistochastique ou non\n",
    "3. Ecrire une fonction vecteurstable(G, h) qui permet de vérifier est ce que h est un vecteur stable de G ou non\n",
    "\n"
   ]
  },
  {
   "cell_type": "code",
   "execution_count": 89,
   "metadata": {},
   "outputs": [
    {
     "name": "stdout",
     "output_type": "stream",
     "text": [
      "Matrice Non stochastique\n",
      "Matrice stochastique\n",
      "Matrice bistochastique\n",
      "Matrice Non bistochastique\n",
      "[[0.375 0.625]]\n"
     ]
    },
    {
     "ename": "ValueError",
     "evalue": "The truth value of an array with more than one element is ambiguous. Use a.any() or a.all()",
     "output_type": "error",
     "traceback": [
      "\u001b[1;31m---------------------------------------------------------------------------\u001b[0m",
      "\u001b[1;31mValueError\u001b[0m                                Traceback (most recent call last)",
      "\u001b[1;32m<ipython-input-89-98317d1b51a7>\u001b[0m in \u001b[0;36m<module>\u001b[1;34m\u001b[0m\n\u001b[0;32m     50\u001b[0m     \u001b[0mprint\u001b[0m\u001b[1;33m(\u001b[0m\u001b[0mh\u001b[0m \u001b[1;33m+\u001b[0m\u001b[1;34m\" est un vecteur stable de \"\u001b[0m\u001b[1;33m+\u001b[0m \u001b[0mG\u001b[0m\u001b[1;33m)\u001b[0m\u001b[1;33m\u001b[0m\u001b[1;33m\u001b[0m\u001b[0m\n\u001b[0;32m     51\u001b[0m \u001b[1;33m\u001b[0m\u001b[0m\n\u001b[1;32m---> 52\u001b[1;33m \u001b[0mvecteurstable\u001b[0m\u001b[1;33m(\u001b[0m\u001b[0mG\u001b[0m\u001b[1;33m,\u001b[0m \u001b[0mh\u001b[0m\u001b[1;33m)\u001b[0m\u001b[1;33m\u001b[0m\u001b[1;33m\u001b[0m\u001b[0m\n\u001b[0m",
      "\u001b[1;32m<ipython-input-89-98317d1b51a7>\u001b[0m in \u001b[0;36mvecteurstable\u001b[1;34m(G, h)\u001b[0m\n\u001b[0;32m     45\u001b[0m     \u001b[0mprint\u001b[0m\u001b[1;33m(\u001b[0m\u001b[0mh\u001b[0m\u001b[1;33m.\u001b[0m\u001b[0mdot\u001b[0m\u001b[1;33m(\u001b[0m\u001b[0mG\u001b[0m\u001b[1;33m)\u001b[0m\u001b[1;33m)\u001b[0m\u001b[1;33m\u001b[0m\u001b[1;33m\u001b[0m\u001b[0m\n\u001b[0;32m     46\u001b[0m     \u001b[1;32mfor\u001b[0m \u001b[0mi\u001b[0m \u001b[1;32min\u001b[0m \u001b[0mrange\u001b[0m \u001b[1;33m(\u001b[0m\u001b[0ma\u001b[0m\u001b[1;33m[\u001b[0m\u001b[1;36m0\u001b[0m\u001b[1;33m]\u001b[0m\u001b[1;33m)\u001b[0m\u001b[1;33m:\u001b[0m\u001b[1;33m\u001b[0m\u001b[1;33m\u001b[0m\u001b[0m\n\u001b[1;32m---> 47\u001b[1;33m         \u001b[1;32mif\u001b[0m \u001b[1;33m(\u001b[0m\u001b[0mh\u001b[0m\u001b[1;33m*\u001b[0m\u001b[0mG\u001b[0m \u001b[1;33m==\u001b[0m \u001b[0mh\u001b[0m\u001b[1;33m)\u001b[0m\u001b[1;33m:\u001b[0m\u001b[1;33m\u001b[0m\u001b[1;33m\u001b[0m\u001b[0m\n\u001b[0m\u001b[0;32m     48\u001b[0m             \u001b[0mprint\u001b[0m\u001b[1;33m(\u001b[0m\u001b[0mh\u001b[0m \u001b[1;33m+\u001b[0m\u001b[1;34m\" n'est pas un vecteur stable de \"\u001b[0m\u001b[1;33m+\u001b[0m \u001b[0mG\u001b[0m\u001b[1;33m)\u001b[0m\u001b[1;33m\u001b[0m\u001b[1;33m\u001b[0m\u001b[0m\n\u001b[0;32m     49\u001b[0m             \u001b[1;32mreturn\u001b[0m\u001b[1;33m\u001b[0m\u001b[1;33m\u001b[0m\u001b[0m\n",
      "\u001b[1;31mValueError\u001b[0m: The truth value of an array with more than one element is ambiguous. Use a.any() or a.all()"
     ]
    }
   ],
   "source": [
    "m = [[0.2,0.6,0.2],[0.1,0.6,0.3],[0.2,0.7,0.1]]\n",
    "n = [[0.5,0.5,0.5],[0.4,0.4,0.4],[0.1,0.1,0.1]]\n",
    "bi = [[0.5,0.4,0.1],[0.4,0.5,0.5],[0.1,0.1,0.4]]\n",
    "def eststochastique(P):\n",
    "    d = np.shape(P)\n",
    "    for j in range (d[1]):\n",
    "        somme=0\n",
    "        for i in range(d[0]):\n",
    "            somme+=P[i][j]\n",
    "        if(somme!=1):\n",
    "            print(\"Matrice Non stochastique\")\n",
    "            return;\n",
    "    print(\"Matrice stochastique\")\n",
    "    return;\n",
    "\n",
    "eststochastique(m)\n",
    "eststochastique(n)\n",
    "\n",
    "def estbistochastique(P):\n",
    "    d = np.shape(P)\n",
    "    for j in range (d[1]):\n",
    "        somme=0\n",
    "        for i in range(d[0]):\n",
    "            somme+=P[i][j]\n",
    "        if(somme!=1):\n",
    "            print(\"Matrice Non bistochastique\")\n",
    "            return;\n",
    "    for j in range (d[0]):\n",
    "        somme=0\n",
    "        for i in range(d[1]):\n",
    "            somme+=P[i][j]\n",
    "        if(somme!=1):\n",
    "            print(\"Matrice Non bistochastique\")\n",
    "            return;\n",
    "    print(\"Matrice bistochastique\")\n",
    "    return;\n",
    "    \n",
    "estbistochastique(bi)\n",
    "estbistochastique(m)\n",
    "\n",
    "G = np.array([[0.95, 0.05], [0.03, 0.97]])\n",
    "h = np.array([[0.375, 0.625]])\n",
    "def vecteurstable(G, h):\n",
    "    a = np.shape(h)\n",
    "    print(h.dot(G))\n",
    "    for i in range (a[0]):\n",
    "        if (h*G == h):\n",
    "            print(h +\" n'est pas un vecteur stable de \"+ G)\n",
    "            return\n",
    "    print(h +\" est un vecteur stable de \"+ G)\n",
    "    \n",
    "vecteurstable(G, h)"
   ]
  },
  {
   "cell_type": "markdown",
   "metadata": {},
   "source": [
    "Ex 4: Transposer\n",
    "\n",
    "Programmer une fonction qui, étant donné une matrice à deux dimensions A, retourne lamatrice B dont la première colonne est la première ligne de A, la seconde la deuxième ligne de A, etc. B s’appelle la transposée de A."
   ]
  },
  {
   "cell_type": "code",
   "execution_count": 94,
   "metadata": {},
   "outputs": [
    {
     "name": "stdout",
     "output_type": "stream",
     "text": [
      "[[1 3]\n",
      " [2 4]\n",
      " [3 5]]\n"
     ]
    }
   ],
   "source": [
    "A = np.array([[1, 2, 3], [3, 4, 5]])\n",
    "def trans(A):\n",
    "    d = np.shape(A)\n",
    "    B= np.ndarray(shape=(d[1],d[0]), dtype=int)\n",
    "    for i in range (d[0]):\n",
    "        for j in range (d[1]):\n",
    "            B[j,i]=A[i,j]\n",
    "    return B;\n",
    "\n",
    "print(trans(A))\n",
    "    "
   ]
  },
  {
   "cell_type": "markdown",
   "metadata": {},
   "source": [
    "Ex 5: Permutations\n",
    "1. $M$ désignant une matrice quelconque d’entiers à $l_i$ lignes et $co$ colonnes, $n$ un entier quelconque, programmer une fonction qui retourne la matrice $Sortie$ qui empile verticalement les $co+1$ matrices obtenues en adjoignant à $M$ une colonne $A$ à $li$ lignes dont tousles éléments sont égaux à $n$, $A$ étant placée d’abord devant $M$, puis entre la première et deuxième colonne de $M^a$,etc, jusqu’à ce que $A$ devienne sa dernière colonne. La matriceobtenue  aura $co+1$ colonnes et $(n+1)$ $li$ lignes\n",
    "\n",
    "2. Écrire toutes les permutations de(1, ..., n)"
   ]
  }
 ],
 "metadata": {
  "kernelspec": {
   "display_name": "Python 3",
   "language": "python",
   "name": "python3"
  },
  "language_info": {
   "codemirror_mode": {
    "name": "ipython",
    "version": 3
   },
   "file_extension": ".py",
   "mimetype": "text/x-python",
   "name": "python",
   "nbconvert_exporter": "python",
   "pygments_lexer": "ipython3",
   "version": "3.8.3"
  }
 },
 "nbformat": 4,
 "nbformat_minor": 4
}
